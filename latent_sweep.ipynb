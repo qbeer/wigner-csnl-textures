{
 "cells": [
  {
   "cell_type": "code",
   "execution_count": 1,
   "metadata": {},
   "outputs": [
    {
     "name": "stderr",
     "output_type": "stream",
     "text": "Using TensorFlow backend.\n"
    }
   ],
   "source": [
    "import warnings\n",
    "warnings.simplefilter(action='ignore', category=FutureWarning)\n",
    "\n",
    "import os\n",
    "\n",
    "os.environ['CUDA_VISIBLE_DEVICES'] = '1'\n",
    "\n",
    "from csnl import DataGeneratorWithLabels, DataGenerator, DenseLadderVAE, \\\n",
    "DenseLinLinLadderVAE, VAEPlotter, ModelTrainer"
   ]
  },
  {
   "cell_type": "code",
   "execution_count": 2,
   "metadata": {},
   "outputs": [
    {
     "name": "stdout",
     "output_type": "stream",
     "text": "Training size : 37800 \t Test size : 4200\nShapes :  (37800, 28, 28, 1) \t (4200, 28, 28, 1)\nLabel shaped :  (37800,) \t (4200,)\nTrain set : \nMean: 0.499, Standard Deviation: 0.157\nMin: 0.000, Max: 1.000\nTest set : \nMean: 0.499, Standard Deviation: 0.157\nMin: 0.000, Max: 1.000\nTrain SHAPE :  (37800, 28, 28, 1)\nMEAN :  {0: 0.49618801083712977, 1: 0.5000000000000002, 2: 0.5000043854028291, 3: 0.49999037217872805, 4: 0.4999999999999999, 5: 0.49999999999999944, 6: 0.5000000000000006, 7: nan, 8: nan, 9: nan}\nSTD :  {0: 0.2795232304659204, 1: 0.12972179491334127, 2: 0.1878776468561605, 3: 0.1455744995271547, 4: 0.042093943681260626, 5: 0.08038296207324777, 6: 0.11335077635372165, 7: nan, 8: nan, 9: nan}\nTest SHAPE :  (4200, 28, 28, 1)\nMEAN :  {0: 0.49938174332232904, 1: 0.4994474854248672, 2: 0.49953722540249085, 3: 0.4993921865195907, 4: 0.4994409264556163, 5: 0.49944513245349165, 6: 0.4995206918013805, 7: nan, 8: nan, 9: nan}\nSTD :  {0: 0.16108819138477978, 1: 0.15795423837534453, 2: 0.1530487919614309, 3: 0.1603416970580439, 4: 0.15674000765449378, 5: 0.15705830699788273, 6: 0.15216802897686568, 7: nan, 8: nan, 9: nan}\n/home/qbeer666/.local/lib/python3.5/site-packages/numpy/core/_methods.py:140: RuntimeWarning: Degrees of freedom <= 0 for slice\n  keepdims=keepdims)\n/home/qbeer666/.local/lib/python3.5/site-packages/numpy/core/_methods.py:110: RuntimeWarning: invalid value encountered in true_divide\n  arrmean, rcount, out=arrmean, casting='unsafe', subok=False)\n/home/qbeer666/.local/lib/python3.5/site-packages/numpy/core/_methods.py:132: RuntimeWarning: invalid value encountered in double_scalars\n  ret = ret.dtype.type(ret / rcount)\n/home/qbeer666/.local/lib/python3.5/site-packages/numpy/core/fromnumeric.py:3118: RuntimeWarning: Mean of empty slice.\n  out=out, **kwargs)\n/home/qbeer666/.local/lib/python3.5/site-packages/numpy/core/_methods.py:85: RuntimeWarning: invalid value encountered in double_scalars\n  ret = ret.dtype.type(ret / rcount)\n"
    }
   ],
   "source": [
    "data_gen_labels = DataGeneratorWithLabels(image_shape=(28, 28, 1),\n",
    "                                          batch_size=500,\n",
    "                                          file_path=os.getcwd() +\n",
    "                                          '/csnl/data/textures_42000_28px.pkl',\n",
    "                                          whiten=False,\n",
    "                                          contrast_normalize=False)"
   ]
  },
  {
   "cell_type": "code",
   "execution_count": 3,
   "metadata": {},
   "outputs": [
    {
     "name": "stdout",
     "output_type": "stream",
     "text": "Training size : 37800 \t Test size : 4200\nShapes :  (37800, 28, 28, 1) \t (4200, 28, 28, 1)\nLabel shaped :  (37800,) \t (4200,)\nTrain set : \nMean: 0.499, Standard Deviation: 0.157\nMin: 0.000, Max: 1.000\nTest set : \nMean: 0.499, Standard Deviation: 0.157\nMin: 0.000, Max: 1.000\nTrain set : \nMean: 0.499, Standard Deviation: 0.157\nMin: 0.000, Max: 1.000\nTrain SHAPE :  (37800, 28, 28, 1)\nTest SHAPE :  (4200, 28, 28, 1)\n"
    }
   ],
   "source": [
    "data_gen = DataGenerator(image_shape=(28, 28, 1),\n",
    "                         batch_size=500,\n",
    "                         file_path=os.getcwd() +\n",
    "                         '/csnl/data/textures_42000_28px.pkl',\n",
    "                         whiten=False,\n",
    "                         contrast_normalize=False)"
   ]
  },
  {
   "cell_type": "code",
   "execution_count": 4,
   "metadata": {},
   "outputs": [],
   "source": [
    "LATENT_DIM1 = 16 * 8\n",
    "LATENT_DIM2 = 8\n",
    "\n",
    "vae = DenseLadderVAE(input_shape=(500, 28*28),\n",
    "                    latent_dim1=LATENT_DIM1,\n",
    "                    latent_dim2=LATENT_DIM2)"
   ]
  },
  {
   "cell_type": "code",
   "execution_count": 5,
   "metadata": {},
   "outputs": [
    {
     "name": "stderr",
     "output_type": "stream",
     "text": "WARNING: Logging before flag parsing goes to stderr.\nW1213 10:44:41.337141 139984639223552 deprecation_wrapper.py:119] From /home/qbeer666/.local/lib/python3.5/site-packages/keras/backend/tensorflow_backend.py:74: The name tf.get_default_graph is deprecated. Please use tf.compat.v1.get_default_graph instead.\n\nW1213 10:44:41.370546 139984639223552 deprecation_wrapper.py:119] From /home/qbeer666/.local/lib/python3.5/site-packages/keras/backend/tensorflow_backend.py:517: The name tf.placeholder is deprecated. Please use tf.compat.v1.placeholder instead.\n\nW1213 10:44:41.376832 139984639223552 deprecation_wrapper.py:119] From /home/qbeer666/.local/lib/python3.5/site-packages/keras/backend/tensorflow_backend.py:4138: The name tf.random_uniform is deprecated. Please use tf.random.uniform instead.\n\nW1213 10:44:41.722546 139984639223552 deprecation_wrapper.py:119] From /home/qbeer666/.local/lib/python3.5/site-packages/keras/backend/tensorflow_backend.py:4115: The name tf.random_normal is deprecated. Please use tf.random.normal instead.\n\nW1213 10:44:41.860002 139984639223552 deprecation_wrapper.py:119] From /home/qbeer666/.local/lib/python3.5/site-packages/keras/optimizers.py:790: The name tf.train.Optimizer is deprecated. Please use tf.compat.v1.train.Optimizer instead.\n\n__________________________________________________________________________________________________\nLayer (type)                    Output Shape         Param #     Connected to                     \n==================================================================================================\ninput_1 (InputLayer)            (500, 784)           0                                            \n__________________________________________________________________________________________________\ndense_encoder_1 (Model)         multiple             1492864     input_1[0][0]                    \n__________________________________________________________________________________________________\ndense_encoder_2 (Model)         multiple             263168      dense_encoder_1[1][0]            \n__________________________________________________________________________________________________\nmean_z2 (Dense)                 (500, 8)             2056        dense_encoder_2[1][0]            \n__________________________________________________________________________________________________\nlog_sigma_z2 (Dense)            (500, 8)             2056        dense_encoder_2[1][0]            \n__________________________________________________________________________________________________\nsampling_z2 (Lambda)            (500, 8)             0           mean_z2[0][0]                    \n                                                                 log_sigma_z2[0][0]               \n__________________________________________________________________________________________________\ndense_decoder_2 (Model)         multiple             265216      sampling_z2[0][0]                \n__________________________________________________________________________________________________\nmean_log_sigma_model (Model)    multiple             65792       dense_decoder_2[1][0]            \n__________________________________________________________________________________________________\nbottom_up_mean (Dense)          (500, 128)           16512       dense_encoder_1[1][0]            \n__________________________________________________________________________________________________\nbottom_up_log_sigma (Dense)     (500, 128)           16512       dense_encoder_1[1][0]            \n__________________________________________________________________________________________________\ncalculate_mean_z1 (Lambda)      (500, 128)           0           mean_log_sigma_model[1][0]       \n                                                                 mean_log_sigma_model[1][1]       \n                                                                 bottom_up_mean[0][0]             \n                                                                 bottom_up_log_sigma[0][0]        \n__________________________________________________________________________________________________\ncalculate_sigma_z1 (Lambda)     (500, 128)           0           bottom_up_log_sigma[0][0]        \n                                                                 mean_log_sigma_model[1][1]       \n__________________________________________________________________________________________________\nsampling_z1 (Lambda)            (500, 128)           0           calculate_mean_z1[0][0]          \n                                                                 calculate_sigma_z1[0][0]         \n__________________________________________________________________________________________________\ndense_decoder_1 (Model)         multiple             4296976     sampling_z1[0][0]                \n==================================================================================================\nTotal params: 6,421,152\nTrainable params: 6,421,152\nNon-trainable params: 0\n__________________________________________________________________________________________________\n"
    }
   ],
   "source": [
    "trainer = ModelTrainer(vae,\n",
    "                       data_gen,\n",
    "                       loss_fn=\"normal\",\n",
    "                       lr=5e-4,\n",
    "                       decay=1e-4,\n",
    "                       beta=1)"
   ]
  },
  {
   "cell_type": "code",
   "execution_count": 6,
   "metadata": {},
   "outputs": [
    {
     "name": "stderr",
     "output_type": "stream",
     "text": "W1213 10:44:42.110084 139984639223552 deprecation_wrapper.py:119] From /home/qbeer666/.local/lib/python3.5/site-packages/keras/backend/tensorflow_backend.py:174: The name tf.get_default_session is deprecated. Please use tf.compat.v1.get_default_session instead.\n\n"
    }
   ],
   "source": [
    "trainer.model.load_weights('./test_runs/21_DenseLadderVAE_noNorm/model.h5')\n",
    "trainer.generator.load_weights('./test_runs/21_DenseLadderVAE_noNorm/generator_model.h5')\n",
    "trainer.latent_model.load_weights('./test_runs/21_DenseLadderVAE_noNorm/latent_model.h5')"
   ]
  },
  {
   "cell_type": "code",
   "execution_count": 0,
   "metadata": {},
   "outputs": [],
   "source": [
    "plotter = VAEPlotter(trainer, data_gen, data_gen_labels, grid_size=8)"
   ]
  },
  {
   "cell_type": "code",
   "execution_count": 0,
   "metadata": {},
   "outputs": [],
   "source": [
    "plotter.plot_contrast_correlations()"
   ]
  },
  {
   "cell_type": "code",
   "execution_count": 30,
   "metadata": {},
   "outputs": [],
   "source": [
    "plotter.visualize_latent(axis=2, sweep_from=0.5, sweep_to=1.5) # 3 sigma"
   ]
  },
  {
   "cell_type": "code",
   "execution_count": null,
   "metadata": {},
   "outputs": [],
   "source": []
  },
  {
   "cell_type": "code",
   "execution_count": null,
   "metadata": {},
   "outputs": [],
   "source": []
  }
 ],
 "metadata": {
  "file_extension": ".py",
  "kernelspec": {
   "display_name": "Python 3",
   "language": "python",
   "name": "python3"
  },
  "language_info": {
   "codemirror_mode": {
    "name": "ipython",
    "version": 3
   },
   "file_extension": ".py",
   "mimetype": "text/x-python",
   "name": "python",
   "nbconvert_exporter": "python",
   "pygments_lexer": "ipython3",
   "version": "3.5.2"
  },
  "mimetype": "text/x-python",
  "name": "python",
  "npconvert_exporter": "python",
  "pygments_lexer": "ipython3",
  "version": 3
 },
 "nbformat": 4,
 "nbformat_minor": 2
}